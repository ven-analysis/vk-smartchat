{
 "cells": [
  {
   "cell_type": "code",
   "execution_count": 8,
   "metadata": {
    "collapsed": true
   },
   "outputs": [],
   "source": [
    "# Python2\n",
    "from os import listdir\n",
    "from os.path import isfile, join\n",
    "import re\n",
    "\n",
    "import json\n",
    "\n",
    "import numpy as np\n",
    "import pandas as pd\n",
    "import seaborn as sns\n",
    "import matplotlib.pyplot as plt\n",
    "\n",
    "%matplotlib inline\n",
    "\n",
    "plt.style.use('ggplot')\n",
    "plt.rcParams['figure.figsize'] = (12,5)\n"
   ]
  },
  {
   "cell_type": "code",
   "execution_count": 4,
   "metadata": {
    "collapsed": true
   },
   "outputs": [],
   "source": [
    "init_path = 'csv_tokens'\n",
    "group_id = 145254340"
   ]
  },
  {
   "cell_type": "code",
   "execution_count": 5,
   "metadata": {},
   "outputs": [],
   "source": [
    "group_data = pd.read_csv(join(init_path, '{}.csv'.format(group_id)))"
   ]
  },
  {
   "cell_type": "code",
   "execution_count": 6,
   "metadata": {},
   "outputs": [
    {
     "data": {
      "text/html": [
       "<div>\n",
       "<style>\n",
       "    .dataframe thead tr:only-child th {\n",
       "        text-align: right;\n",
       "    }\n",
       "\n",
       "    .dataframe thead th {\n",
       "        text-align: left;\n",
       "    }\n",
       "\n",
       "    .dataframe tbody tr th {\n",
       "        vertical-align: top;\n",
       "    }\n",
       "</style>\n",
       "<table border=\"1\" class=\"dataframe\">\n",
       "  <thead>\n",
       "    <tr style=\"text-align: right;\">\n",
       "      <th></th>\n",
       "      <th>user_id</th>\n",
       "      <th>dialog_number</th>\n",
       "      <th>top_tokens</th>\n",
       "    </tr>\n",
       "  </thead>\n",
       "  <tbody>\n",
       "    <tr>\n",
       "      <th>0</th>\n",
       "      <td>282173420</td>\n",
       "      <td>0</td>\n",
       "      <td>{\"\\u0441\\u043f\\u0430\": 1, \"\\u043a\\u043e\\u043b\"...</td>\n",
       "    </tr>\n",
       "    <tr>\n",
       "      <th>1</th>\n",
       "      <td>282173420</td>\n",
       "      <td>1</td>\n",
       "      <td>{\"\\u044f\\u043d\\u0430\": 1, \"\\u043a\\u043e\\u0435\"...</td>\n",
       "    </tr>\n",
       "    <tr>\n",
       "      <th>2</th>\n",
       "      <td>282173420</td>\n",
       "      <td>2</td>\n",
       "      <td>{\"kz\\u0430\": 1, \"pik\": 1, \"\\u0438\\u043a\\u0430\"...</td>\n",
       "    </tr>\n",
       "    <tr>\n",
       "      <th>3</th>\n",
       "      <td>282173420</td>\n",
       "      <td>3</td>\n",
       "      <td>{\"\\u043e\\u043b\\u044c\": 1, \"\\u044c\\u043a\\u043e\"...</td>\n",
       "    </tr>\n",
       "    <tr>\n",
       "      <th>4</th>\n",
       "      <td>282173420</td>\n",
       "      <td>4</td>\n",
       "      <td>{\"\\u0438\\u043a\\u0435\": 1, \"\\u043a\\u043e\\u043b\"...</td>\n",
       "    </tr>\n",
       "  </tbody>\n",
       "</table>\n",
       "</div>"
      ],
      "text/plain": [
       "     user_id  dialog_number                                         top_tokens\n",
       "0  282173420              0  {\"\\u0441\\u043f\\u0430\": 1, \"\\u043a\\u043e\\u043b\"...\n",
       "1  282173420              1  {\"\\u044f\\u043d\\u0430\": 1, \"\\u043a\\u043e\\u0435\"...\n",
       "2  282173420              2  {\"kz\\u0430\": 1, \"pik\": 1, \"\\u0438\\u043a\\u0430\"...\n",
       "3  282173420              3  {\"\\u043e\\u043b\\u044c\": 1, \"\\u044c\\u043a\\u043e\"...\n",
       "4  282173420              4  {\"\\u0438\\u043a\\u0435\": 1, \"\\u043a\\u043e\\u043b\"..."
      ]
     },
     "execution_count": 6,
     "metadata": {},
     "output_type": "execute_result"
    }
   ],
   "source": [
    "group_data.head()"
   ]
  },
  {
   "cell_type": "code",
   "execution_count": 9,
   "metadata": {},
   "outputs": [],
   "source": [
    "featured_data = group_data['top_tokens'].apply(json.loads)"
   ]
  },
  {
   "cell_type": "code",
   "execution_count": 10,
   "metadata": {},
   "outputs": [
    {
     "data": {
      "text/plain": [
       "0    {u'спа': 1, u'кол': 1, u'оль': 1, u'аба': 1, u...\n",
       "1    {u'яна': 1, u'кое': 1, u'кол': 1, u'ечт': 1, u...\n",
       "2    {u'kzа': 1, u'pik': 1, u'ика': 1, u'афо': 1, u...\n",
       "3    {u'ько': 1, u'вет': 1, u'оль': 1, u'при': 1, u...\n",
       "4    {u'ике': 1, u'кол': 1, u'ицу': 1, u'ико': 1, u...\n",
       "Name: top_tokens, dtype: object"
      ]
     },
     "execution_count": 10,
     "metadata": {},
     "output_type": "execute_result"
    }
   ],
   "source": [
    "featured_data.head()"
   ]
  },
  {
   "cell_type": "code",
   "execution_count": 13,
   "metadata": {},
   "outputs": [],
   "source": [
    "stlst = list(featured_data)\n",
    "stjson = json.dumps(stlst)"
   ]
  },
  {
   "cell_type": "code",
   "execution_count": 14,
   "metadata": {
    "collapsed": true
   },
   "outputs": [],
   "source": [
    "group_data = group_data.join(pd.read_json(stjson))"
   ]
  },
  {
   "cell_type": "code",
   "execution_count": 15,
   "metadata": {},
   "outputs": [
    {
     "data": {
      "text/html": [
       "<div>\n",
       "<style>\n",
       "    .dataframe thead tr:only-child th {\n",
       "        text-align: right;\n",
       "    }\n",
       "\n",
       "    .dataframe thead th {\n",
       "        text-align: left;\n",
       "    }\n",
       "\n",
       "    .dataframe tbody tr th {\n",
       "        vertical-align: top;\n",
       "    }\n",
       "</style>\n",
       "<table border=\"1\" class=\"dataframe\">\n",
       "  <thead>\n",
       "    <tr style=\"text-align: right;\">\n",
       "      <th></th>\n",
       "      <th>user_id</th>\n",
       "      <th>dialog_number</th>\n",
       "      <th>top_tokens</th>\n",
       "      <th>!!</th>\n",
       "      <th>!!!</th>\n",
       "      <th>!!\"</th>\n",
       "      <th>!!(</th>\n",
       "      <th>!!)</th>\n",
       "      <th>!!*</th>\n",
       "      <th>!!,</th>\n",
       "      <th>...</th>\n",
       "      <th>（＾◇</th>\n",
       "      <th>）😂</th>\n",
       "      <th>／￣＞</th>\n",
       "      <th>＜￣｀</th>\n",
       "      <th>？😏</th>\n",
       "      <th>＾◇＾</th>\n",
       "      <th>｡^‿</th>\n",
       "      <th>｡｡｡</th>\n",
       "      <th>｡｡･</th>\n",
       "      <th>･｡｡</th>\n",
       "    </tr>\n",
       "  </thead>\n",
       "  <tbody>\n",
       "    <tr>\n",
       "      <th>0</th>\n",
       "      <td>282173420</td>\n",
       "      <td>0</td>\n",
       "      <td>{\"\\u0441\\u043f\\u0430\": 1, \"\\u043a\\u043e\\u043b\"...</td>\n",
       "      <td>NaN</td>\n",
       "      <td>NaN</td>\n",
       "      <td>NaN</td>\n",
       "      <td>NaN</td>\n",
       "      <td>NaN</td>\n",
       "      <td>NaN</td>\n",
       "      <td>NaN</td>\n",
       "      <td>...</td>\n",
       "      <td>NaN</td>\n",
       "      <td>NaN</td>\n",
       "      <td>NaN</td>\n",
       "      <td>NaN</td>\n",
       "      <td>NaN</td>\n",
       "      <td>NaN</td>\n",
       "      <td>NaN</td>\n",
       "      <td>NaN</td>\n",
       "      <td>NaN</td>\n",
       "      <td>NaN</td>\n",
       "    </tr>\n",
       "    <tr>\n",
       "      <th>1</th>\n",
       "      <td>282173420</td>\n",
       "      <td>1</td>\n",
       "      <td>{\"\\u044f\\u043d\\u0430\": 1, \"\\u043a\\u043e\\u0435\"...</td>\n",
       "      <td>NaN</td>\n",
       "      <td>NaN</td>\n",
       "      <td>NaN</td>\n",
       "      <td>NaN</td>\n",
       "      <td>NaN</td>\n",
       "      <td>NaN</td>\n",
       "      <td>NaN</td>\n",
       "      <td>...</td>\n",
       "      <td>NaN</td>\n",
       "      <td>NaN</td>\n",
       "      <td>NaN</td>\n",
       "      <td>NaN</td>\n",
       "      <td>NaN</td>\n",
       "      <td>NaN</td>\n",
       "      <td>NaN</td>\n",
       "      <td>NaN</td>\n",
       "      <td>NaN</td>\n",
       "      <td>NaN</td>\n",
       "    </tr>\n",
       "    <tr>\n",
       "      <th>2</th>\n",
       "      <td>282173420</td>\n",
       "      <td>2</td>\n",
       "      <td>{\"kz\\u0430\": 1, \"pik\": 1, \"\\u0438\\u043a\\u0430\"...</td>\n",
       "      <td>NaN</td>\n",
       "      <td>NaN</td>\n",
       "      <td>NaN</td>\n",
       "      <td>NaN</td>\n",
       "      <td>NaN</td>\n",
       "      <td>NaN</td>\n",
       "      <td>NaN</td>\n",
       "      <td>...</td>\n",
       "      <td>NaN</td>\n",
       "      <td>NaN</td>\n",
       "      <td>NaN</td>\n",
       "      <td>NaN</td>\n",
       "      <td>NaN</td>\n",
       "      <td>NaN</td>\n",
       "      <td>NaN</td>\n",
       "      <td>NaN</td>\n",
       "      <td>NaN</td>\n",
       "      <td>NaN</td>\n",
       "    </tr>\n",
       "    <tr>\n",
       "      <th>3</th>\n",
       "      <td>282173420</td>\n",
       "      <td>3</td>\n",
       "      <td>{\"\\u043e\\u043b\\u044c\": 1, \"\\u044c\\u043a\\u043e\"...</td>\n",
       "      <td>NaN</td>\n",
       "      <td>NaN</td>\n",
       "      <td>NaN</td>\n",
       "      <td>NaN</td>\n",
       "      <td>NaN</td>\n",
       "      <td>NaN</td>\n",
       "      <td>NaN</td>\n",
       "      <td>...</td>\n",
       "      <td>NaN</td>\n",
       "      <td>NaN</td>\n",
       "      <td>NaN</td>\n",
       "      <td>NaN</td>\n",
       "      <td>NaN</td>\n",
       "      <td>NaN</td>\n",
       "      <td>NaN</td>\n",
       "      <td>NaN</td>\n",
       "      <td>NaN</td>\n",
       "      <td>NaN</td>\n",
       "    </tr>\n",
       "    <tr>\n",
       "      <th>4</th>\n",
       "      <td>282173420</td>\n",
       "      <td>4</td>\n",
       "      <td>{\"\\u0438\\u043a\\u0435\": 1, \"\\u043a\\u043e\\u043b\"...</td>\n",
       "      <td>NaN</td>\n",
       "      <td>NaN</td>\n",
       "      <td>NaN</td>\n",
       "      <td>NaN</td>\n",
       "      <td>NaN</td>\n",
       "      <td>NaN</td>\n",
       "      <td>NaN</td>\n",
       "      <td>...</td>\n",
       "      <td>NaN</td>\n",
       "      <td>NaN</td>\n",
       "      <td>NaN</td>\n",
       "      <td>NaN</td>\n",
       "      <td>NaN</td>\n",
       "      <td>NaN</td>\n",
       "      <td>NaN</td>\n",
       "      <td>NaN</td>\n",
       "      <td>NaN</td>\n",
       "      <td>NaN</td>\n",
       "    </tr>\n",
       "  </tbody>\n",
       "</table>\n",
       "<p>5 rows × 33004 columns</p>\n",
       "</div>"
      ],
      "text/plain": [
       "     user_id  dialog_number  \\\n",
       "0  282173420              0   \n",
       "1  282173420              1   \n",
       "2  282173420              2   \n",
       "3  282173420              3   \n",
       "4  282173420              4   \n",
       "\n",
       "                                          top_tokens  !!  !!!  !!\"  !!(  !!)  \\\n",
       "0  {\"\\u0441\\u043f\\u0430\": 1, \"\\u043a\\u043e\\u043b\"... NaN  NaN  NaN  NaN  NaN   \n",
       "1  {\"\\u044f\\u043d\\u0430\": 1, \"\\u043a\\u043e\\u0435\"... NaN  NaN  NaN  NaN  NaN   \n",
       "2  {\"kz\\u0430\": 1, \"pik\": 1, \"\\u0438\\u043a\\u0430\"... NaN  NaN  NaN  NaN  NaN   \n",
       "3  {\"\\u043e\\u043b\\u044c\": 1, \"\\u044c\\u043a\\u043e\"... NaN  NaN  NaN  NaN  NaN   \n",
       "4  {\"\\u0438\\u043a\\u0435\": 1, \"\\u043a\\u043e\\u043b\"... NaN  NaN  NaN  NaN  NaN   \n",
       "\n",
       "   !!*  !!, ...   （＾◇  ）😂  ／￣＞  ＜￣｀  ？😏  ＾◇＾  ｡^‿  ｡｡｡  ｡｡･  ･｡｡  \n",
       "0  NaN  NaN ...   NaN  NaN  NaN  NaN  NaN  NaN  NaN  NaN  NaN  NaN  \n",
       "1  NaN  NaN ...   NaN  NaN  NaN  NaN  NaN  NaN  NaN  NaN  NaN  NaN  \n",
       "2  NaN  NaN ...   NaN  NaN  NaN  NaN  NaN  NaN  NaN  NaN  NaN  NaN  \n",
       "3  NaN  NaN ...   NaN  NaN  NaN  NaN  NaN  NaN  NaN  NaN  NaN  NaN  \n",
       "4  NaN  NaN ...   NaN  NaN  NaN  NaN  NaN  NaN  NaN  NaN  NaN  NaN  \n",
       "\n",
       "[5 rows x 33004 columns]"
      ]
     },
     "execution_count": 15,
     "metadata": {},
     "output_type": "execute_result"
    }
   ],
   "source": [
    "group_data.head()"
   ]
  },
  {
   "cell_type": "code",
   "execution_count": 16,
   "metadata": {},
   "outputs": [
    {
     "ename": "TypeError",
     "evalue": "'tuple' object is not callable",
     "output_type": "error",
     "traceback": [
      "\u001b[0;31m---------------------------------------------------------------------------\u001b[0m",
      "\u001b[0;31mTypeError\u001b[0m                                 Traceback (most recent call last)",
      "\u001b[0;32m<ipython-input-16-1490c62623e3>\u001b[0m in \u001b[0;36m<module>\u001b[0;34m()\u001b[0m\n\u001b[0;32m----> 1\u001b[0;31m \u001b[0mgroup_data\u001b[0m\u001b[0;34m.\u001b[0m\u001b[0mshape\u001b[0m\u001b[0;34m(\u001b[0m\u001b[0;34m)\u001b[0m\u001b[0;34m\u001b[0m\u001b[0m\n\u001b[0m",
      "\u001b[0;31mTypeError\u001b[0m: 'tuple' object is not callable"
     ]
    }
   ],
   "source": []
  }
 ],
 "metadata": {
  "kernelspec": {
   "display_name": "Python 2",
   "language": "python",
   "name": "python2"
  },
  "language_info": {
   "codemirror_mode": {
    "name": "ipython",
    "version": 2
   },
   "file_extension": ".py",
   "mimetype": "text/x-python",
   "name": "python",
   "nbconvert_exporter": "python",
   "pygments_lexer": "ipython2",
   "version": "2.7.14"
  }
 },
 "nbformat": 4,
 "nbformat_minor": 2
}
