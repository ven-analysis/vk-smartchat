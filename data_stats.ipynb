{
 "cells": [
  {
   "cell_type": "markdown",
   "metadata": {},
   "source": [
    "## Общая информация\n",
    "\n",
    "дата сбора статистики: 14 ноября 2017\n",
    "\n",
    "время последнего диалога:\n",
    "\n",
    "время первого диалога:\n",
    "\n",
    "всего диалогов:\n",
    "\n",
    "всего юзеров:\n",
    "\n",
    "диалогов на среднестатистического юзера:\n",
    "\n",
    "максимальное число диалогов на юзера: 743\n",
    "\n",
    "это за период с 28 июня по 14 ноября 2017 года (139 дней)\n",
    "\n",
    "то есть 5.35 диалогов в сутки"
   ]
  },
  {
   "cell_type": "code",
   "execution_count": 149,
   "metadata": {},
   "outputs": [],
   "source": [
    "# Python2\n",
    "from os import listdir\n",
    "from os.path import isfile, join\n",
    "import re\n",
    "\n",
    "import numpy as np\n",
    "import pandas as pd\n",
    "import seaborn as sns\n",
    "import matplotlib.pyplot as plt\n",
    "\n",
    "%matplotlib inline\n",
    "\n",
    "plt.style.use('ggplot')\n",
    "plt.rcParams['figure.figsize'] = (12,5)\n"
   ]
  },
  {
   "cell_type": "code",
   "execution_count": 2,
   "metadata": {
    "collapsed": true
   },
   "outputs": [],
   "source": [
    "init_path = 'csv_histories'\n",
    "group_id = 145254340"
   ]
  },
  {
   "cell_type": "code",
   "execution_count": 37,
   "metadata": {
    "collapsed": true
   },
   "outputs": [],
   "source": [
    "group_data = pd.read_csv(join(init_path, '{}.csv'.format(group_id)))"
   ]
  },
  {
   "cell_type": "code",
   "execution_count": 38,
   "metadata": {},
   "outputs": [
    {
     "data": {
      "text/html": [
       "<div>\n",
       "<style>\n",
       "    .dataframe thead tr:only-child th {\n",
       "        text-align: right;\n",
       "    }\n",
       "\n",
       "    .dataframe thead th {\n",
       "        text-align: left;\n",
       "    }\n",
       "\n",
       "    .dataframe tbody tr th {\n",
       "        vertical-align: top;\n",
       "    }\n",
       "</style>\n",
       "<table border=\"1\" class=\"dataframe\">\n",
       "  <thead>\n",
       "    <tr style=\"text-align: right;\">\n",
       "      <th></th>\n",
       "      <th>user_id</th>\n",
       "      <th>dialog_number</th>\n",
       "      <th>message_number</th>\n",
       "      <th>text</th>\n",
       "      <th>is_income</th>\n",
       "    </tr>\n",
       "  </thead>\n",
       "  <tbody>\n",
       "    <tr>\n",
       "      <th>0</th>\n",
       "      <td>402472964</td>\n",
       "      <td>0</td>\n",
       "      <td>0</td>\n",
       "      <td>приветствую</td>\n",
       "      <td>1</td>\n",
       "    </tr>\n",
       "    <tr>\n",
       "      <th>1</th>\n",
       "      <td>402472964</td>\n",
       "      <td>0</td>\n",
       "      <td>1</td>\n",
       "      <td>здрастееэээ?</td>\n",
       "      <td>1</td>\n",
       "    </tr>\n",
       "    <tr>\n",
       "      <th>2</th>\n",
       "      <td>402472964</td>\n",
       "      <td>0</td>\n",
       "      <td>2</td>\n",
       "      <td>эм...</td>\n",
       "      <td>1</td>\n",
       "    </tr>\n",
       "    <tr>\n",
       "      <th>3</th>\n",
       "      <td>402472964</td>\n",
       "      <td>0</td>\n",
       "      <td>3</td>\n",
       "      <td>мммм...</td>\n",
       "      <td>1</td>\n",
       "    </tr>\n",
       "    <tr>\n",
       "      <th>4</th>\n",
       "      <td>402472964</td>\n",
       "      <td>0</td>\n",
       "      <td>4</td>\n",
       "      <td>ты на связи?</td>\n",
       "      <td>1</td>\n",
       "    </tr>\n",
       "  </tbody>\n",
       "</table>\n",
       "</div>"
      ],
      "text/plain": [
       "     user_id  dialog_number  message_number          text  is_income\n",
       "0  402472964              0               0   приветствую          1\n",
       "1  402472964              0               1  здрастееэээ?          1\n",
       "2  402472964              0               2         эм...          1\n",
       "3  402472964              0               3       мммм...          1\n",
       "4  402472964              0               4  ты на связи?          1"
      ]
     },
     "execution_count": 38,
     "metadata": {},
     "output_type": "execute_result"
    }
   ],
   "source": [
    "# group_ids = [int(re.split('\\.', f)[0]) for f in listdir(init_path) if isfile(join(init_path, f))]\n",
    "# for group_id in group_ids:\n",
    "group_data.loc[:,'text'] = group_data.loc[:,'text'].str.decode('utf-8').str.lower()\n",
    "keys = group_data['is_income'] == 1\n",
    "group_data.loc[keys,'text'] = group_data[keys]['text'].str.slice(13)\n",
    "group_data.head()"
   ]
  },
  {
   "cell_type": "code",
   "execution_count": null,
   "metadata": {},
   "outputs": [],
   "source": [
    "#group_data['dialog_count'] = group_data.groupby('user_id').agg({'dialog_number': lambda x: np.max(x) + 1})"
   ]
  },
  {
   "cell_type": "code",
   "execution_count": 34,
   "metadata": {},
   "outputs": [
    {
     "data": {
      "text/html": [
       "<div>\n",
       "<style>\n",
       "    .dataframe thead tr:only-child th {\n",
       "        text-align: right;\n",
       "    }\n",
       "\n",
       "    .dataframe thead th {\n",
       "        text-align: left;\n",
       "    }\n",
       "\n",
       "    .dataframe tbody tr th {\n",
       "        vertical-align: top;\n",
       "    }\n",
       "</style>\n",
       "<table border=\"1\" class=\"dataframe\">\n",
       "  <thead>\n",
       "    <tr style=\"text-align: right;\">\n",
       "      <th></th>\n",
       "      <th>user_id</th>\n",
       "      <th>dialog_number</th>\n",
       "      <th>message_number</th>\n",
       "      <th>text</th>\n",
       "      <th>is_income</th>\n",
       "      <th>dialog_count</th>\n",
       "    </tr>\n",
       "  </thead>\n",
       "  <tbody>\n",
       "    <tr>\n",
       "      <th>0</th>\n",
       "      <td>402472964</td>\n",
       "      <td>0</td>\n",
       "      <td>0</td>\n",
       "      <td>приветствую</td>\n",
       "      <td>1</td>\n",
       "      <td>NaN</td>\n",
       "    </tr>\n",
       "    <tr>\n",
       "      <th>1</th>\n",
       "      <td>402472964</td>\n",
       "      <td>0</td>\n",
       "      <td>1</td>\n",
       "      <td>здрастееэээ?</td>\n",
       "      <td>1</td>\n",
       "      <td>NaN</td>\n",
       "    </tr>\n",
       "    <tr>\n",
       "      <th>2</th>\n",
       "      <td>402472964</td>\n",
       "      <td>0</td>\n",
       "      <td>2</td>\n",
       "      <td>эм...</td>\n",
       "      <td>1</td>\n",
       "      <td>NaN</td>\n",
       "    </tr>\n",
       "    <tr>\n",
       "      <th>3</th>\n",
       "      <td>402472964</td>\n",
       "      <td>0</td>\n",
       "      <td>3</td>\n",
       "      <td>мммм...</td>\n",
       "      <td>1</td>\n",
       "      <td>NaN</td>\n",
       "    </tr>\n",
       "    <tr>\n",
       "      <th>4</th>\n",
       "      <td>402472964</td>\n",
       "      <td>0</td>\n",
       "      <td>4</td>\n",
       "      <td>ты на связи?</td>\n",
       "      <td>1</td>\n",
       "      <td>NaN</td>\n",
       "    </tr>\n",
       "  </tbody>\n",
       "</table>\n",
       "</div>"
      ],
      "text/plain": [
       "     user_id  dialog_number  message_number          text  is_income  \\\n",
       "0  402472964              0               0   приветствую          1   \n",
       "1  402472964              0               1  здрастееэээ?          1   \n",
       "2  402472964              0               2         эм...          1   \n",
       "3  402472964              0               3       мммм...          1   \n",
       "4  402472964              0               4  ты на связи?          1   \n",
       "\n",
       "   dialog_count  \n",
       "0           NaN  \n",
       "1           NaN  \n",
       "2           NaN  \n",
       "3           NaN  \n",
       "4           NaN  "
      ]
     },
     "execution_count": 34,
     "metadata": {},
     "output_type": "execute_result"
    }
   ],
   "source": [
    "group_data.head()"
   ]
  },
  {
   "cell_type": "code",
   "execution_count": 60,
   "metadata": {},
   "outputs": [
    {
     "data": {
      "text/html": [
       "<div>\n",
       "<style>\n",
       "    .dataframe thead tr:only-child th {\n",
       "        text-align: right;\n",
       "    }\n",
       "\n",
       "    .dataframe thead th {\n",
       "        text-align: left;\n",
       "    }\n",
       "\n",
       "    .dataframe tbody tr th {\n",
       "        vertical-align: top;\n",
       "    }\n",
       "</style>\n",
       "<table border=\"1\" class=\"dataframe\">\n",
       "  <thead>\n",
       "    <tr style=\"text-align: right;\">\n",
       "      <th></th>\n",
       "      <th>user_id</th>\n",
       "      <th>dialog_number</th>\n",
       "    </tr>\n",
       "  </thead>\n",
       "  <tbody>\n",
       "    <tr>\n",
       "      <th>0</th>\n",
       "      <td>422045523</td>\n",
       "      <td>743</td>\n",
       "    </tr>\n",
       "    <tr>\n",
       "      <th>1</th>\n",
       "      <td>160180977</td>\n",
       "      <td>565</td>\n",
       "    </tr>\n",
       "    <tr>\n",
       "      <th>2</th>\n",
       "      <td>409391325</td>\n",
       "      <td>420</td>\n",
       "    </tr>\n",
       "    <tr>\n",
       "      <th>3</th>\n",
       "      <td>392172223</td>\n",
       "      <td>382</td>\n",
       "    </tr>\n",
       "    <tr>\n",
       "      <th>4</th>\n",
       "      <td>416778326</td>\n",
       "      <td>327</td>\n",
       "    </tr>\n",
       "  </tbody>\n",
       "</table>\n",
       "</div>"
      ],
      "text/plain": [
       "     user_id  dialog_number\n",
       "0  422045523            743\n",
       "1  160180977            565\n",
       "2  409391325            420\n",
       "3  392172223            382\n",
       "4  416778326            327"
      ]
     },
     "execution_count": 60,
     "metadata": {},
     "output_type": "execute_result"
    }
   ],
   "source": [
    "dialogs_count = group_data.groupby('user_id').agg({'dialog_number': lambda x: (np.max(x) + 1)})\n",
    "dialogs_count = dialogs_count.sort_values('dialog_number', ascending=False).reset_index()\n",
    "dialogs_count.head()"
   ]
  },
  {
   "cell_type": "code",
   "execution_count": null,
   "metadata": {},
   "outputs": [],
   "source": [
    "#sns.barplot(x=dialogs_count.user_id, y=dialogs_count.dialog_number)"
   ]
  },
  {
   "cell_type": "code",
   "execution_count": 120,
   "metadata": {
    "collapsed": true
   },
   "outputs": [],
   "source": [
    "dialogs_count_log = dialogs_count.copy()"
   ]
  },
  {
   "cell_type": "code",
   "execution_count": 156,
   "metadata": {},
   "outputs": [
    {
     "data": {
      "text/plain": [
       "<matplotlib.axes._subplots.AxesSubplot at 0x7f91c4fb4a10>"
      ]
     },
     "execution_count": 156,
     "metadata": {},
     "output_type": "execute_result"
    },
    {
     "data": {
      "image/png": "[encoded data removed]",
      "text/plain": [
       "<matplotlib.figure.Figure at 0x7f91c29ba890>"
      ]
     },
     "metadata": {},
     "output_type": "display_data"
    }
   ],
   "source": [
    "dialogs_count_log['dialog_number'] = dialogs_count['dialog_number'].apply(lambda x: np.log(x))\n",
    "#dialogs_count_log.tail()\n",
    "n_bins = 15\n",
    "bins = np.linspace(dialogs_count_log.dialog_number.min(), dialogs_count_log.dialog_number.max(), n_bins)\n",
    "#bins\n",
    "sns.distplot(dialogs_count_log.dialog_number, kde=False, bins=bins)"
   ]
  },
  {
   "cell_type": "code",
   "execution_count": null,
   "metadata": {
    "collapsed": true
   },
   "outputs": [],
   "source": []
  },
  {
   "cell_type": "code",
   "execution_count": null,
   "metadata": {
    "collapsed": true
   },
   "outputs": [],
   "source": []
  }
 ],
 "metadata": {
  "kernelspec": {
   "display_name": "Python 2",
   "language": "python",
   "name": "python2"
  },
  "language_info": {
   "codemirror_mode": {
    "name": "ipython",
    "version": 2
   },
   "file_extension": ".py",
   "mimetype": "text/x-python",
   "name": "python",
   "nbconvert_exporter": "python",
   "pygments_lexer": "ipython2",
   "version": "2.7.13"
  }
 },
 "nbformat": 4,
 "nbformat_minor": 2
}
