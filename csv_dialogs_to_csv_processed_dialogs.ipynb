{
 "cells": [
  {
   "cell_type": "code",
   "execution_count": 1,
   "metadata": {},
   "outputs": [],
   "source": [
    "from os import listdir\n",
    "from os.path import isfile, join\n",
    "import re\n",
    "\n",
    "import numpy as np\n",
    "import pandas as pd\n",
    "\n",
    "init_path = 'csv_dialogs'\n",
    "processed_path = 'csv_processed_dialogs'\n",
    "\n",
    "group_ids = [int(re.split('\\.', f)[0]) for f in listdir(init_path) if isfile(join(init_path, f)) and re.match('\\d+\\.csv', f) is not None]\n",
    "group_ids = [145254340]"
   ]
  },
  {
   "cell_type": "code",
   "execution_count": 3,
   "metadata": {},
   "outputs": [
    {
     "data": {
      "text/html": [
       "<div>\n",
       "<style scoped>\n",
       "    .dataframe tbody tr th:only-of-type {\n",
       "        vertical-align: middle;\n",
       "    }\n",
       "\n",
       "    .dataframe tbody tr th {\n",
       "        vertical-align: top;\n",
       "    }\n",
       "\n",
       "    .dataframe thead th {\n",
       "        text-align: right;\n",
       "    }\n",
       "</style>\n",
       "<table border=\"1\" class=\"dataframe\">\n",
       "  <thead>\n",
       "    <tr style=\"text-align: right;\">\n",
       "      <th></th>\n",
       "      <th>user_id</th>\n",
       "      <th>dialog_number</th>\n",
       "      <th>message_number</th>\n",
       "      <th>text</th>\n",
       "      <th>is_income</th>\n",
       "    </tr>\n",
       "  </thead>\n",
       "  <tbody>\n",
       "    <tr>\n",
       "      <th>0</th>\n",
       "      <td>402472964</td>\n",
       "      <td>0</td>\n",
       "      <td>0</td>\n",
       "      <td>Собеседник: \\nПриветствую</td>\n",
       "      <td>1</td>\n",
       "    </tr>\n",
       "    <tr>\n",
       "      <th>1</th>\n",
       "      <td>402472964</td>\n",
       "      <td>0</td>\n",
       "      <td>1</td>\n",
       "      <td>Собеседник: \\nЗдрастееэээ?</td>\n",
       "      <td>1</td>\n",
       "    </tr>\n",
       "    <tr>\n",
       "      <th>2</th>\n",
       "      <td>402472964</td>\n",
       "      <td>0</td>\n",
       "      <td>2</td>\n",
       "      <td>Собеседник: \\nЭм...</td>\n",
       "      <td>1</td>\n",
       "    </tr>\n",
       "    <tr>\n",
       "      <th>3</th>\n",
       "      <td>402472964</td>\n",
       "      <td>0</td>\n",
       "      <td>3</td>\n",
       "      <td>Собеседник: \\nМммм...</td>\n",
       "      <td>1</td>\n",
       "    </tr>\n",
       "    <tr>\n",
       "      <th>4</th>\n",
       "      <td>402472964</td>\n",
       "      <td>0</td>\n",
       "      <td>4</td>\n",
       "      <td>Собеседник: \\nТы на связи?</td>\n",
       "      <td>1</td>\n",
       "    </tr>\n",
       "  </tbody>\n",
       "</table>\n",
       "</div>"
      ],
      "text/plain": [
       "     user_id  dialog_number  message_number                        text  \\\n",
       "0  402472964              0               0   Собеседник: \\nПриветствую   \n",
       "1  402472964              0               1  Собеседник: \\nЗдрастееэээ?   \n",
       "2  402472964              0               2         Собеседник: \\nЭм...   \n",
       "3  402472964              0               3       Собеседник: \\nМммм...   \n",
       "4  402472964              0               4  Собеседник: \\nТы на связи?   \n",
       "\n",
       "   is_income  \n",
       "0          1  \n",
       "1          1  \n",
       "2          1  \n",
       "3          1  \n",
       "4          1  "
      ]
     },
     "execution_count": 3,
     "metadata": {},
     "output_type": "execute_result"
    }
   ],
   "source": [
    "group_data_list = []\n",
    "for group_id in group_ids:\n",
    "    group_data = pd.read_csv(join(init_path, '{}.csv'.format(group_id)))\n",
    "    group_data_list.append(group_data)\n",
    "    \n",
    "group_data = pd.concat(group_data_list)\n",
    "group_data.head()"
   ]
  },
  {
   "cell_type": "code",
   "execution_count": 121,
   "metadata": {},
   "outputs": [
    {
     "data": {
      "text/plain": [
       "(745320, 5)"
      ]
     },
     "execution_count": 121,
     "metadata": {},
     "output_type": "execute_result"
    }
   ],
   "source": [
    "# group_data.set_index('user_id', 'dialog_number', 'message_number')\n",
    "# group_data.head()\n",
    "group_data.shape"
   ]
  },
  {
   "cell_type": "code",
   "execution_count": null,
   "metadata": {},
   "outputs": [],
   "source": [
    "groups_dialogs_top = group_data.groupby('user_id').agg({'dialog_number': lambda x: np.max(x) + 1, 'group_id': np.max})"
   ]
  },
  {
   "cell_type": "code",
   "execution_count": 19,
   "metadata": {},
   "outputs": [],
   "source": []
  },
  {
   "cell_type": "code",
   "execution_count": 57,
   "metadata": {},
   "outputs": [],
   "source": [
    "group_data.query('user_id == 386898798 and dialog_number == 71').to_csv('very_big_dialog.csv')"
   ]
  },
  {
   "cell_type": "code",
   "execution_count": 65,
   "metadata": {},
   "outputs": [],
   "source": [
    "# dialog_length = np.empty(36165, dtype=np.int32)\n",
    "# i = 0\n",
    "# for user_id in group_data['user_id'].unique():\n",
    "#     dialog_numbers = group_data[group_data['user_id'] == user_id]['dialog_number'].unique()\n",
    "#     for dialog_number in dialog_numbers:\n",
    "#         one_dialog_messages = group_data.query('user_id == {} and dialog_number == {}'.format(user_id, dialog_number))\n",
    "#         dialog_length[i] = len(one_dialog_messages)\n",
    "#         i += 1\n",
    "# #         break\n",
    "# #     break\n",
    "# one_dialog_messages.head()\n",
    "group_by_dialog_size = group_data.groupby(('user_id', 'dialog_number'))\n",
    "agg_dialogs = group_by_dialog_size.agg({'message_number': lambda x: np.max(x) + 1})\n",
    "\n",
    "s_agg_dialogs = agg_dialogs.sort_values('message_number', ascending=False).reset_index()\n",
    "\n"
   ]
  },
  {
   "cell_type": "code",
   "execution_count": 60,
   "metadata": {},
   "outputs": [],
   "source": [
    "count_mes_more_than = []\n",
    "for i in xrange(10, 1000):\n",
    "    res = group_by_dialog_size.sort_values('message_number', ascending=False).reset_index().query('message_number > {}'.format(i)).shape[0]\n",
    "    count_mes_more_than.append(res)\n",
    "# group_by_dialog_size.reset_index().head()"
   ]
  },
  {
   "cell_type": "code",
   "execution_count": 97,
   "metadata": {},
   "outputs": [],
   "source": [
    "# good dialogs\n",
    "# 7146 elems\n",
    "# half_mn = 27\n",
    "# 7127 : 7465\n",
    "# s_agg_dialogs[:np.int(s_agg_dialogs.shape[0] * 0.2)]\n",
    "good_dialogs = s_agg_dialogs.query('message_number > 27')\n",
    "good_dialogs.to_csv('good_dialogs.csv', index=None)"
   ]
  },
  {
   "cell_type": "code",
   "execution_count": 134,
   "metadata": {},
   "outputs": [
    {
     "data": {
      "text/html": [
       "<div>\n",
       "<style scoped>\n",
       "    .dataframe tbody tr th:only-of-type {\n",
       "        vertical-align: middle;\n",
       "    }\n",
       "\n",
       "    .dataframe tbody tr th {\n",
       "        vertical-align: top;\n",
       "    }\n",
       "\n",
       "    .dataframe thead th {\n",
       "        text-align: right;\n",
       "    }\n",
       "</style>\n",
       "<table border=\"1\" class=\"dataframe\">\n",
       "  <thead>\n",
       "    <tr style=\"text-align: right;\">\n",
       "      <th></th>\n",
       "      <th>user_id</th>\n",
       "      <th>dialog_number</th>\n",
       "      <th>message_number</th>\n",
       "      <th>text</th>\n",
       "      <th>is_income</th>\n",
       "    </tr>\n",
       "  </thead>\n",
       "  <tbody>\n",
       "    <tr>\n",
       "      <th>577885</th>\n",
       "      <td>2486613</td>\n",
       "      <td>21</td>\n",
       "      <td>0</td>\n",
       "      <td>Собеседник: \\nПривет</td>\n",
       "      <td>1</td>\n",
       "    </tr>\n",
       "    <tr>\n",
       "      <th>577886</th>\n",
       "      <td>2486613</td>\n",
       "      <td>21</td>\n",
       "      <td>1</td>\n",
       "      <td>Лол</td>\n",
       "      <td>0</td>\n",
       "    </tr>\n",
       "    <tr>\n",
       "      <th>577887</th>\n",
       "      <td>2486613</td>\n",
       "      <td>21</td>\n",
       "      <td>2</td>\n",
       "      <td>Привет</td>\n",
       "      <td>0</td>\n",
       "    </tr>\n",
       "  </tbody>\n",
       "</table>\n",
       "</div>"
      ],
      "text/plain": [
       "        user_id  dialog_number  message_number                  text  \\\n",
       "577885  2486613             21               0  Собеседник: \\nПривет   \n",
       "577886  2486613             21               1                   Лол   \n",
       "577887  2486613             21               2                Привет   \n",
       "\n",
       "        is_income  \n",
       "577885          1  \n",
       "577886          0  \n",
       "577887          0  "
      ]
     },
     "execution_count": 134,
     "metadata": {},
     "output_type": "execute_result"
    }
   ],
   "source": [
    "# bad dialogs\n",
    "group_data.query('user_id == {} and dialog_number == {}'.format(58212957, 1))\n",
    "group_data.query('user_id == {} and dialog_number == {}'.format(415005995, 46))\n",
    "group_data.query('user_id == {} and dialog_number == {}'.format(316821755, 5))\n",
    "group_data.query('user_id == {} and dialog_number == {}'.format(415005995, 58))\n",
    "group_data.query('user_id == {} and dialog_number == {}'.format(2486613, 21))\n"
   ]
  },
  {
   "cell_type": "code",
   "execution_count": 135,
   "metadata": {},
   "outputs": [],
   "source": [
    "# message_number > 3 change to income message > 1\n",
    "bad_dialogs = s_agg_dialogs[- np.int(s_agg_dialogs.shape[0] * 0.2) :].query('dialog_number > 3 and message_number > 3')\n",
    "# bad_dialogs.loc[:, ('user_id', 'dialog_number')].to_csv('bad_dialogs.csv', index=None)\n",
    "indexed_bad_dialogs = s_agg_dialogs[- np.int(s_agg_dialogs.shape[0] * 0.2) :].query('dialog_number > 3').rename(columns={'message_number': 'messages_count'}).set_index(['user_id', 'dialog_number'])\n",
    "indexed_bad_dialogs['score'] = -1\n",
    "indexed_bad_dialogs\n",
    "indexed_group_data = group_data.set_index(['user_id', 'dialog_number'])\n",
    "true_bad_dialogs = indexed_group_data.join(indexed_bad_dialogs).query('score == -1 and is_income == 1').reset_index().loc[:, ['user_id', 'dialog_number']]\n",
    "true_bad_dialogs.head()\n",
    "true_bad_dialogs.to_csv('bad_dialogs.csv', index=None)\n"
   ]
  },
  {
   "cell_type": "code",
   "execution_count": null,
   "metadata": {},
   "outputs": [],
   "source": []
  },
  {
   "cell_type": "code",
   "execution_count": 63,
   "metadata": {},
   "outputs": [
    {
     "data": {
      "text/plain": [
       "<matplotlib.legend.Legend at 0x7f4b36ce7150>"
      ]
     },
     "execution_count": 63,
     "metadata": {},
     "output_type": "execute_result"
    },
    {
     "data": {
      "image/png": "[encoded data removed]",
      "text/plain": [
       "<matplotlib.figure.Figure at 0x7f4b36cf3110>"
      ]
     },
     "metadata": {},
     "output_type": "display_data"
    }
   ],
   "source": [
    "import matplotlib.pyplot as plt\n",
    "%matplotlib inline\n",
    "\n",
    "plt.style.use('ggplot')\n",
    "plt.rcParams['figure.figsize'] = (12,5)\n",
    "\n",
    "plt.plot(xrange(10, 1000), count_mes_more_than, label=u'число диалогов, в которых сообщений > заданного числа')\n",
    "plt.legend()\n",
    "# plt.xscale('log')\n"
   ]
  },
  {
   "cell_type": "code",
   "execution_count": 49,
   "metadata": {},
   "outputs": [
    {
     "data": {
      "text/html": [
       "<div>\n",
       "<style scoped>\n",
       "    .dataframe tbody tr th:only-of-type {\n",
       "        vertical-align: middle;\n",
       "    }\n",
       "\n",
       "    .dataframe tbody tr th {\n",
       "        vertical-align: top;\n",
       "    }\n",
       "\n",
       "    .dataframe thead th {\n",
       "        text-align: right;\n",
       "    }\n",
       "</style>\n",
       "<table border=\"1\" class=\"dataframe\">\n",
       "  <thead>\n",
       "    <tr style=\"text-align: right;\">\n",
       "      <th></th>\n",
       "      <th>user_id</th>\n",
       "      <th>dialog_number</th>\n",
       "      <th>message_number</th>\n",
       "    </tr>\n",
       "  </thead>\n",
       "  <tbody>\n",
       "    <tr>\n",
       "      <th>33968</th>\n",
       "      <td>422045523</td>\n",
       "      <td>742</td>\n",
       "      <td>2</td>\n",
       "    </tr>\n",
       "    <tr>\n",
       "      <th>20574</th>\n",
       "      <td>422045523</td>\n",
       "      <td>741</td>\n",
       "      <td>8</td>\n",
       "    </tr>\n",
       "    <tr>\n",
       "      <th>27706</th>\n",
       "      <td>422045523</td>\n",
       "      <td>740</td>\n",
       "      <td>4</td>\n",
       "    </tr>\n",
       "    <tr>\n",
       "      <th>31467</th>\n",
       "      <td>422045523</td>\n",
       "      <td>739</td>\n",
       "      <td>3</td>\n",
       "    </tr>\n",
       "    <tr>\n",
       "      <th>18212</th>\n",
       "      <td>422045523</td>\n",
       "      <td>738</td>\n",
       "      <td>10</td>\n",
       "    </tr>\n",
       "  </tbody>\n",
       "</table>\n",
       "</div>"
      ],
      "text/plain": [
       "         user_id  dialog_number  message_number\n",
       "33968  422045523            742               2\n",
       "20574  422045523            741               8\n",
       "27706  422045523            740               4\n",
       "31467  422045523            739               3\n",
       "18212  422045523            738              10"
      ]
     },
     "execution_count": 49,
     "metadata": {},
     "output_type": "execute_result"
    }
   ],
   "source": [
    "group_by_dialog_size.sort_values('message_number', ascending=False).reset_index().sort_values('dialog_number', ascending=False).head()"
   ]
  },
  {
   "cell_type": "code",
   "execution_count": 38,
   "metadata": {},
   "outputs": [
    {
     "data": {
      "text/plain": [
       "user_id    dialog_number\n",
       "386898798  71               1813\n",
       "Name: message_number, dtype: int64"
      ]
     },
     "execution_count": 38,
     "metadata": {},
     "output_type": "execute_result"
    }
   ],
   "source": [
    "indexed_group_data = group_data.set_index(['user_id', 'dialog_number'])\n",
    "# for val in indexed_group_data:\n",
    "#     print val\n",
    "#     break\n",
    "indexed_group_data['message_number'][indexed_group_data['message_number'] == max(indexed_group_data['message_number'])]"
   ]
  },
  {
   "cell_type": "code",
   "execution_count": null,
   "metadata": {},
   "outputs": [],
   "source": []
  },
  {
   "cell_type": "code",
   "execution_count": 1,
   "metadata": {},
   "outputs": [],
   "source": [
    "import nltk\n",
    "import string\n",
    "from nltk.corpus import stopwords\n",
    "class Tokenizer:\n",
    "    def __init__(self):\n",
    "        stop_words = stopwords.words('russian')\n",
    "        stop_words.extend([item.decode('utf-8') for item in ('что', 'это', 'так', 'вот', 'быть', 'как', 'в', '—', 'к', 'на')])\n",
    "#         self.stop_words = [unicode(item) for item in stop_words]\n",
    "        stop_words.extend([item.decode('utf-8') for item in string.punctuation])\n",
    "        self.stop_words = stop_words\n",
    "    def tokenize(self, text):\n",
    "        #firstly let's apply nltk tokenization\n",
    "#         tokens = [token.decode('utf-8') for token in nltk.word_tokenize(text)]\n",
    "\n",
    "        #let's delete punctuation symbols\n",
    "#         tokens = [i for i in tokens if ( i not in string.punctuation )]\n",
    "\n",
    "        #deleting stop_words\n",
    "#         tokens = [i for i in tokens if ( i not in self.stop_words )]\n",
    "\n",
    "        #cleaning words\n",
    "    #     tokens = [i.replace(\"«\", \"\").replace(\"»\", \"\") for i in tokens]\n",
    "        return nltk.word_tokenize(text)\n",
    "#         return tokens"
   ]
  },
  {
   "cell_type": "code",
   "execution_count": null,
   "metadata": {},
   "outputs": [],
   "source": [
    "for group_id in group_ids:\n",
    "    group_data = pd.read_csv(join(init_path, '{}.csv'.format(group_id)))\n",
    "    group_data.loc[:,'text'] = group_data.loc[:,'text'].str.decode('utf-8').str.lower().fillna(u'а')\n",
    "    keys = group_data['is_income'] == 1\n",
    "    group_data.loc[keys,'text'] = group_data[keys]['text'].str.slice(13)\n",
    "    \n",
    "#     group_data.to_csv(join(processed_path, '{}.csv'.format(group_id)), encoding='utf-8', index=False)\n",
    "# group_data['text'].apply(tokenizer)\n",
    "# tokenizer = Tokenizer()\n",
    "group_data['tokens'] = group_data['text'].apply(nltk.word_tokenize)\n",
    "# tokenizer = Tokenizer()\n",
    "# for word in tokenizer.tokenize('как прикажете к вам обращаться?'):\n",
    "#     print word"
   ]
  },
  {
   "cell_type": "code",
   "execution_count": 7,
   "metadata": {},
   "outputs": [
    {
     "data": {
      "text/plain": [
       "(21, 6)"
      ]
     },
     "execution_count": 7,
     "metadata": {},
     "output_type": "execute_result"
    }
   ],
   "source": [
    "group_data.shape"
   ]
  },
  {
   "cell_type": "code",
   "execution_count": 4,
   "metadata": {},
   "outputs": [
    {
     "name": "stdout",
     "output_type": "stream",
     "text": [
      "CPU times: user 850 µs, sys: 4.06 ms, total: 4.91 ms\n",
      "Wall time: 4.46 ms\n"
     ]
    },
    {
     "data": {
      "text/plain": [
       "0            [оляляля]\n",
       "1                [фка]\n",
       "2               [стоп]\n",
       "3               [стоп]\n",
       "4              [sdfsd]\n",
       "5                  [1]\n",
       "6                   []\n",
       "7                  [!]\n",
       "8                  [а]\n",
       "9                   []\n",
       "10                  []\n",
       "11                  []\n",
       "12                  []\n",
       "13                  []\n",
       "14                  []\n",
       "15                 [а]\n",
       "16            [xxxxxx]\n",
       "17             [yyyyy]\n",
       "18    [zzzzzzzzzzzzzz]\n",
       "19               [ccc]\n",
       "20             [rrrrr]\n",
       "Name: text, dtype: object"
      ]
     },
     "execution_count": 4,
     "metadata": {},
     "output_type": "execute_result"
    }
   ],
   "source": [
    "%time group_data['text'].apply(nltk.word_tokenize)"
   ]
  },
  {
   "cell_type": "code",
   "execution_count": 18,
   "metadata": {},
   "outputs": [
    {
     "data": {
      "text/plain": [
       "unicode"
      ]
     },
     "execution_count": 18,
     "metadata": {},
     "output_type": "execute_result"
    }
   ],
   "source": [
    "type(group_data[keys]['text'][0])"
   ]
  },
  {
   "cell_type": "code",
   "execution_count": 20,
   "metadata": {},
   "outputs": [
    {
     "data": {
      "text/plain": [
       "unicode"
      ]
     },
     "execution_count": 20,
     "metadata": {},
     "output_type": "execute_result"
    }
   ],
   "source": [
    "type(stopwords.words('russian')[0])"
   ]
  },
  {
   "cell_type": "code",
   "execution_count": 5,
   "metadata": {},
   "outputs": [
    {
     "name": "stdout",
     "output_type": "stream",
     "text": [
      "<type 'str'>\n",
      "ну\n",
      "<type 'str'>\n",
      "что\n",
      "<type 'str'>\n",
      "же\n",
      "<type 'str'>\n",
      ",\n",
      "<type 'str'>\n",
      "кю\n",
      "<type 'str'>\n",
      ",\n",
      "<type 'str'>\n",
      "расскажите\n",
      "<type 'str'>\n",
      "о\n",
      "<type 'str'>\n",
      "себе\n"
     ]
    }
   ],
   "source": [
    "# for item in ('что', 'это', 'так', 'вот', 'быть', 'как', 'в', '—', 'к', 'на'):\n",
    "\n",
    "stop_words = []\n",
    "# stop_words = stopwords.words('russian')\n",
    "stop_words.extend([item.decode('utf-8') for item in ('что', 'это', 'так', 'вот', 'быть', 'как', 'в', '—', 'к', 'на')])\n",
    "# stop_words.extend([item.decode('utf-8') for item in string.punctuation])\n",
    "\n",
    "text = 'ну что же, кю, расскажите о себе'\n",
    "tokens = nltk.word_tokenize(text)\n",
    "for token in tokens:\n",
    "    print type(token)\n",
    "    print token\n",
    "# tokens = [item for item in tokens if item not in stop_words]"
   ]
  },
  {
   "cell_type": "code",
   "execution_count": 6,
   "metadata": {},
   "outputs": [
    {
     "data": {
      "text/plain": [
       "u'\\u0451'"
      ]
     },
     "execution_count": 6,
     "metadata": {},
     "output_type": "execute_result"
    }
   ],
   "source": [
    "# type(unicode('ё'))\n",
    "'ё'.decode('utf-8')"
   ]
  }
 ],
 "metadata": {
  "kernelspec": {
   "display_name": "Python 2",
   "language": "python",
   "name": "python2"
  },
  "language_info": {
   "codemirror_mode": {
    "name": "ipython",
    "version": 2
   },
   "file_extension": ".py",
   "mimetype": "text/x-python",
   "name": "python",
   "nbconvert_exporter": "python",
   "pygments_lexer": "ipython2",
   "version": "2.7.14"
  }
 },
 "nbformat": 4,
 "nbformat_minor": 2
}
