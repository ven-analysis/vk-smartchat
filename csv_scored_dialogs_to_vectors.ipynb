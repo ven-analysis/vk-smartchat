{
 "cells": [
  {
   "cell_type": "code",
   "execution_count": 36,
   "metadata": {},
   "outputs": [],
   "source": [
    "import numpy as np\n",
    "import pandas as pd\n",
    "# import scipy\n",
    "from sklearn.metrics.pairwise import cosine_similarity\n",
    "import nltk\n",
    "import re\n",
    "import json\n",
    "from os.path import join\n",
    "from sklearn.feature_extraction.text import TfidfVectorizer\n",
    "# from collections import defaultdict\n",
    "# import pickle\n",
    "# import pymorphy2"
   ]
  },
  {
   "cell_type": "code",
   "execution_count": 5,
   "metadata": {},
   "outputs": [],
   "source": [
    "input_folder_path = 'csv_scored_dialogs'\n",
    "# output_folder_path = 'csv_word_tokens'\n",
    "group_id = 145254340"
   ]
  },
  {
   "cell_type": "code",
   "execution_count": 44,
   "metadata": {},
   "outputs": [
    {
     "data": {
      "text/html": [
       "<div>\n",
       "<style scoped>\n",
       "    .dataframe tbody tr th:only-of-type {\n",
       "        vertical-align: middle;\n",
       "    }\n",
       "\n",
       "    .dataframe tbody tr th {\n",
       "        vertical-align: top;\n",
       "    }\n",
       "\n",
       "    .dataframe thead th {\n",
       "        text-align: right;\n",
       "    }\n",
       "</style>\n",
       "<table border=\"1\" class=\"dataframe\">\n",
       "  <thead>\n",
       "    <tr style=\"text-align: right;\">\n",
       "      <th></th>\n",
       "      <th>user_id</th>\n",
       "      <th>dialog_number</th>\n",
       "      <th>message_number</th>\n",
       "      <th>text</th>\n",
       "      <th>score</th>\n",
       "      <th>tokens</th>\n",
       "    </tr>\n",
       "  </thead>\n",
       "  <tbody>\n",
       "    <tr>\n",
       "      <th>0</th>\n",
       "      <td>2486613</td>\n",
       "      <td>7</td>\n",
       "      <td>1</td>\n",
       "      <td>тян?</td>\n",
       "      <td>-1.0</td>\n",
       "      <td>[[\"\\u0442\\u043e\\u043d\"], [\"?\"]]</td>\n",
       "    </tr>\n",
       "    <tr>\n",
       "      <th>1</th>\n",
       "      <td>2486613</td>\n",
       "      <td>10</td>\n",
       "      <td>1</td>\n",
       "      <td>хуел</td>\n",
       "      <td>-1.0</td>\n",
       "      <td>[[\"\\u0445\\u0443\\u0434\\u0435\\u0442\\u044c\"]]</td>\n",
       "    </tr>\n",
       "    <tr>\n",
       "      <th>2</th>\n",
       "      <td>2486613</td>\n",
       "      <td>11</td>\n",
       "      <td>1</td>\n",
       "      <td>привет</td>\n",
       "      <td>1.0</td>\n",
       "      <td>[[\"\\u043f\\u0440\\u0438\\u0432\\u0435\\u0442\"]]</td>\n",
       "    </tr>\n",
       "    <tr>\n",
       "      <th>3</th>\n",
       "      <td>2486613</td>\n",
       "      <td>11</td>\n",
       "      <td>5</td>\n",
       "      <td>😂</td>\n",
       "      <td>1.0</td>\n",
       "      <td>[[\"\\ud83d\\ude02\"]]</td>\n",
       "    </tr>\n",
       "    <tr>\n",
       "      <th>4</th>\n",
       "      <td>2486613</td>\n",
       "      <td>11</td>\n",
       "      <td>6</td>\n",
       "      <td>м ж?</td>\n",
       "      <td>1.0</td>\n",
       "      <td>[[\"\\u043c\"], [\"\\u0436\"], [\"?\"]]</td>\n",
       "    </tr>\n",
       "  </tbody>\n",
       "</table>\n",
       "</div>"
      ],
      "text/plain": [
       "   user_id  dialog_number  message_number    text  score  \\\n",
       "0  2486613              7               1    тян?   -1.0   \n",
       "1  2486613             10               1    хуел   -1.0   \n",
       "2  2486613             11               1  привет    1.0   \n",
       "3  2486613             11               5       😂    1.0   \n",
       "4  2486613             11               6    м ж?    1.0   \n",
       "\n",
       "                                       tokens  \n",
       "0             [[\"\\u0442\\u043e\\u043d\"], [\"?\"]]  \n",
       "1  [[\"\\u0445\\u0443\\u0434\\u0435\\u0442\\u044c\"]]  \n",
       "2  [[\"\\u043f\\u0440\\u0438\\u0432\\u0435\\u0442\"]]  \n",
       "3                          [[\"\\ud83d\\ude02\"]]  \n",
       "4             [[\"\\u043c\"], [\"\\u0436\"], [\"?\"]]  "
      ]
     },
     "execution_count": 44,
     "metadata": {},
     "output_type": "execute_result"
    }
   ],
   "source": [
    "df_dialogs = pd.read_csv(join(input_folder_path, '{}.csv'.format(group_id)))\n",
    "df_dialogs.head()"
   ]
  },
  {
   "cell_type": "code",
   "execution_count": 45,
   "metadata": {},
   "outputs": [
    {
     "data": {
      "text/html": [
       "<div>\n",
       "<style scoped>\n",
       "    .dataframe tbody tr th:only-of-type {\n",
       "        vertical-align: middle;\n",
       "    }\n",
       "\n",
       "    .dataframe tbody tr th {\n",
       "        vertical-align: top;\n",
       "    }\n",
       "\n",
       "    .dataframe thead th {\n",
       "        text-align: right;\n",
       "    }\n",
       "</style>\n",
       "<table border=\"1\" class=\"dataframe\">\n",
       "  <thead>\n",
       "    <tr style=\"text-align: right;\">\n",
       "      <th></th>\n",
       "      <th>user_id</th>\n",
       "      <th>dialog_number</th>\n",
       "      <th>message_number</th>\n",
       "      <th>text</th>\n",
       "      <th>score</th>\n",
       "      <th>tokens</th>\n",
       "    </tr>\n",
       "  </thead>\n",
       "  <tbody>\n",
       "    <tr>\n",
       "      <th>0</th>\n",
       "      <td>2486613</td>\n",
       "      <td>7</td>\n",
       "      <td>1</td>\n",
       "      <td>тян?</td>\n",
       "      <td>-1.0</td>\n",
       "      <td>тон ?</td>\n",
       "    </tr>\n",
       "    <tr>\n",
       "      <th>1</th>\n",
       "      <td>2486613</td>\n",
       "      <td>10</td>\n",
       "      <td>1</td>\n",
       "      <td>хуел</td>\n",
       "      <td>-1.0</td>\n",
       "      <td>худеть</td>\n",
       "    </tr>\n",
       "    <tr>\n",
       "      <th>2</th>\n",
       "      <td>2486613</td>\n",
       "      <td>11</td>\n",
       "      <td>1</td>\n",
       "      <td>привет</td>\n",
       "      <td>1.0</td>\n",
       "      <td>привет</td>\n",
       "    </tr>\n",
       "    <tr>\n",
       "      <th>3</th>\n",
       "      <td>2486613</td>\n",
       "      <td>11</td>\n",
       "      <td>5</td>\n",
       "      <td>😂</td>\n",
       "      <td>1.0</td>\n",
       "      <td>😂</td>\n",
       "    </tr>\n",
       "    <tr>\n",
       "      <th>4</th>\n",
       "      <td>2486613</td>\n",
       "      <td>11</td>\n",
       "      <td>6</td>\n",
       "      <td>м ж?</td>\n",
       "      <td>1.0</td>\n",
       "      <td>м ж ?</td>\n",
       "    </tr>\n",
       "  </tbody>\n",
       "</table>\n",
       "</div>"
      ],
      "text/plain": [
       "   user_id  dialog_number  message_number    text  score  tokens\n",
       "0  2486613              7               1    тян?   -1.0   тон ?\n",
       "1  2486613             10               1    хуел   -1.0  худеть\n",
       "2  2486613             11               1  привет    1.0  привет\n",
       "3  2486613             11               5       😂    1.0       😂\n",
       "4  2486613             11               6    м ж?    1.0   м ж ?"
      ]
     },
     "execution_count": 45,
     "metadata": {},
     "output_type": "execute_result"
    }
   ],
   "source": [
    "flatten = lambda l: [item for sublist in l for item in sublist]\n",
    "df_dialogs.loc[:, 'tokens'] = df_dialogs['tokens'].apply(lambda x: ' '.join(flatten(json.loads(x))))\n",
    "df_dialogs.head()"
   ]
  },
  {
   "cell_type": "code",
   "execution_count": 52,
   "metadata": {},
   "outputs": [],
   "source": [
    "vectorizer = TfidfVectorizer(min_df=1)\n",
    "X = vectorizer.fit_transform(df_dialogs['tokens'])"
   ]
  },
  {
   "cell_type": "code",
   "execution_count": 53,
   "metadata": {},
   "outputs": [
    {
     "data": {
      "text/plain": [
       "<237800x28239 sparse matrix of type '<type 'numpy.float64'>'\n",
       "\twith 529455 stored elements in Compressed Sparse Row format>"
      ]
     },
     "execution_count": 53,
     "metadata": {},
     "output_type": "execute_result"
    }
   ],
   "source": [
    "X"
   ]
  },
  {
   "cell_type": "code",
   "execution_count": 62,
   "metadata": {},
   "outputs": [
    {
     "data": {
      "text/plain": [
       "<1x28239 sparse matrix of type '<type 'numpy.float64'>'\n",
       "\twith 2 stored elements in Compressed Sparse Row format>"
      ]
     },
     "execution_count": 62,
     "metadata": {},
     "output_type": "execute_result"
    }
   ],
   "source": [
    "# vectorizer.get_feature_names()\n",
    "hello_vec = vectorizer.transform(['привет худеть'])\n",
    "# hello_vec = vectorizer.transform(['привет'])\n",
    "hello_vec"
   ]
  },
  {
   "cell_type": "code",
   "execution_count": 63,
   "metadata": {},
   "outputs": [
    {
     "name": "stdout",
     "output_type": "stream",
     "text": [
      "  (0, 26666)\t0.932136302725\n",
      "  (0, 19525)\t0.362107598847\n"
     ]
    }
   ],
   "source": [
    "for el in hello_vec:\n",
    "    print el"
   ]
  },
  {
   "cell_type": "code",
   "execution_count": 65,
   "metadata": {},
   "outputs": [
    {
     "data": {
      "text/plain": [
       "array([[ 0.,  0.,  0., ...,  0.,  0.,  0.]])"
      ]
     },
     "execution_count": 65,
     "metadata": {},
     "output_type": "execute_result"
    }
   ],
   "source": [
    "hello_vec.toarray()"
   ]
  },
  {
   "cell_type": "code",
   "execution_count": 67,
   "metadata": {},
   "outputs": [
    {
     "data": {
      "text/plain": [
       "1.0"
      ]
     },
     "execution_count": 67,
     "metadata": {},
     "output_type": "execute_result"
    }
   ],
   "source": [
    "import scipy\n",
    "scipy.sparse.linalg.norm(hello_vec)"
   ]
  },
  {
   "cell_type": "code",
   "execution_count": 69,
   "metadata": {},
   "outputs": [
    {
     "data": {
      "text/plain": [
       "array([[ 1.]])"
      ]
     },
     "execution_count": 69,
     "metadata": {},
     "output_type": "execute_result"
    }
   ],
   "source": [
    "from sklearn.metrics.pairwise import cosine_similarity\n",
    "cosine_similarity(hello_vec,hello_vec)"
   ]
  },
  {
   "cell_type": "code",
   "execution_count": 51,
   "metadata": {},
   "outputs": [
    {
     "name": "stdout",
     "output_type": "stream",
     "text": [
      "{u'this': 1.0, u'very': 1.0, u'is': 1.0, u'strange': 1.4054651081081644, u'nice': 1.4054651081081644}\n"
     ]
    }
   ],
   "source": [
    "\n",
    "corpus = [\"This is very strange\",\n",
    "          \"This is very nice\"]\n",
    "vectorizer = TfidfVectorizer(min_df=1)\n",
    "X = vectorizer.fit_transform(corpus)\n",
    "idf = vectorizer.idf_\n",
    "print dict(zip(vectorizer.get_feature_names(), idf))"
   ]
  },
  {
   "cell_type": "code",
   "execution_count": null,
   "metadata": {},
   "outputs": [],
   "source": []
  },
  {
   "cell_type": "code",
   "execution_count": 15,
   "metadata": {},
   "outputs": [
    {
     "name": "stdout",
     "output_type": "stream",
     "text": [
      "('\\xd1\\x82\\xd0\\xbe\\xd0\\xbd', '?')\n"
     ]
    }
   ],
   "source": [
    "sentence = df_dialogs.loc[0]['tokens']\n",
    "n = 2\n",
    "sixgrams = nltk.ngrams(sentence.split(), n)\n",
    "for grams in sixgrams:\n",
    "    print grams"
   ]
  },
  {
   "cell_type": "code",
   "execution_count": 22,
   "metadata": {},
   "outputs": [],
   "source": [
    "bigrams = df_dialogs['tokens'].str.split().apply(lambda words: nltk.ngrams(words, 2))"
   ]
  },
  {
   "cell_type": "code",
   "execution_count": 27,
   "metadata": {},
   "outputs": [
    {
     "data": {
      "text/plain": [
       "list"
      ]
     },
     "execution_count": 27,
     "metadata": {},
     "output_type": "execute_result"
    }
   ],
   "source": [
    "type(list(bigrams[0]))"
   ]
  },
  {
   "cell_type": "code",
   "execution_count": 16,
   "metadata": {},
   "outputs": [
    {
     "data": {
      "text/plain": [
       "['this', 'is', 'it']"
      ]
     },
     "execution_count": 16,
     "metadata": {},
     "output_type": "execute_result"
    }
   ],
   "source": [
    "'this is it'.split()"
   ]
  },
  {
   "cell_type": "code",
   "execution_count": 20,
   "metadata": {},
   "outputs": [
    {
     "data": {
      "text/plain": [
       "[('\\xd1\\x82\\xd0\\xbe\\xd0\\xbd', '?')]"
      ]
     },
     "execution_count": 20,
     "metadata": {},
     "output_type": "execute_result"
    }
   ],
   "source": [
    "list(bigrams[0])"
   ]
  }
 ],
 "metadata": {
  "kernelspec": {
   "display_name": "Python 2",
   "language": "python",
   "name": "python2"
  },
  "language_info": {
   "codemirror_mode": {
    "name": "ipython",
    "version": 2
   },
   "file_extension": ".py",
   "mimetype": "text/x-python",
   "name": "python",
   "nbconvert_exporter": "python",
   "pygments_lexer": "ipython2",
   "version": "2.7.14"
  }
 },
 "nbformat": 4,
 "nbformat_minor": 2
}
