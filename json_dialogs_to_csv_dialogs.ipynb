{
 "cells": [
  {
   "cell_type": "code",
   "execution_count": 2,
   "metadata": {},
   "outputs": [],
   "source": [
    "import unicodecsv as csv\n",
    "import json\n",
    "import numpy as np\n",
    "from os.path import isfile, join"
   ]
  },
  {
   "cell_type": "code",
   "execution_count": 3,
   "metadata": {},
   "outputs": [],
   "source": [
    "group_id = 145254340\n",
    "input_folder_path = 'json_dialogs'\n",
    "f = open(join(input_folder_path, '{}.json'.format(group_id)))"
   ]
  },
  {
   "cell_type": "code",
   "execution_count": 4,
   "metadata": {},
   "outputs": [],
   "source": [
    "output_folder_path = 'csv_dialogs'\n",
    "outfile = open(join(input_folder_path, '{}.csv'.format(group_id)), \"wb+\")\n",
    "writer = csv.writer(outfile)"
   ]
  },
  {
   "cell_type": "code",
   "execution_count": 5,
   "metadata": {},
   "outputs": [],
   "source": [
    "# Write CSV Header, If you dont need that, remove this line\n",
    "writer.writerow([\"user_id\", \"dialog_number\", \"message_number\", \"text\", \"is_income\"])"
   ]
  },
  {
   "cell_type": "code",
   "execution_count": 6,
   "metadata": {},
   "outputs": [],
   "source": [
    "def data_to_csv(data):\n",
    "    info_list = []\n",
    "    user_id = data['user_id']\n",
    "    dialogs = data['dialogs']\n",
    "    for d_i, dialog in enumerate(dialogs):\n",
    "        for m_i, message in enumerate(dialog):\n",
    "            info_list.append([user_id, d_i, m_i, message['text'].encode('utf8'), message['income']])\n",
    "    return info_list"
   ]
  },
  {
   "cell_type": "code",
   "execution_count": 7,
   "metadata": {},
   "outputs": [],
   "source": [
    "# i = 0\n",
    "for line in f:\n",
    "#     i += 1\n",
    "#     if i > 1: \n",
    "#         break\n",
    "    data = json.loads(line)\n",
    "    #print data\n",
    "    for item in data_to_csv(data):\n",
    "        #for alala in item:\n",
    "        #    print alala,\n",
    "        writer.writerow(item)\n",
    "        #print item\n",
    "    #print [(msg['text'] for msg in dial) for dialogs in data['dialogs']]\n"
   ]
  },
  {
   "cell_type": "code",
   "execution_count": 8,
   "metadata": {},
   "outputs": [],
   "source": [
    "outfile.close()"
   ]
  },
  {
   "cell_type": "code",
   "execution_count": 9,
   "metadata": {},
   "outputs": [],
   "source": [
    "f.close()"
   ]
  },
  {
   "cell_type": "code",
   "execution_count": null,
   "metadata": {},
   "outputs": [],
   "source": []
  },
  {
   "cell_type": "code",
   "execution_count": null,
   "metadata": {},
   "outputs": [],
   "source": []
  }
 ],
 "metadata": {
  "anaconda-cloud": {},
  "kernelspec": {
   "display_name": "Python 2",
   "language": "python",
   "name": "python2"
  },
  "language_info": {
   "codemirror_mode": {
    "name": "ipython",
    "version": 2
   },
   "file_extension": ".py",
   "mimetype": "text/x-python",
   "name": "python",
   "nbconvert_exporter": "python",
   "pygments_lexer": "ipython2",
   "version": "2.7.14"
  }
 },
 "nbformat": 4,
 "nbformat_minor": 1
}
