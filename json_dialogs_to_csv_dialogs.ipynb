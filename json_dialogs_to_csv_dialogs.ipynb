{
 "cells": [
  {
   "cell_type": "code",
   "execution_count": 5,
   "metadata": {},
   "outputs": [],
   "source": [
    "import json\n",
    "import re\n",
    "\n",
    "from os import listdir\n",
    "from os.path import isfile, join\n",
    "\n",
    "import numpy as np\n",
    "import unicodecsv as csv"
   ]
  },
  {
   "cell_type": "code",
   "execution_count": 11,
   "metadata": {},
   "outputs": [],
   "source": [
    "input_folder_path = 'json_dialogs'\n",
    "output_folder_path = 'csv_dialogs'\n",
    "group_ids = [int(re.split('\\.', f)[0]) for f in listdir(input_folder_path) if (isfile(join(input_folder_path, f)) and re.match('\\d+.json', f) is not None)]"
   ]
  },
  {
   "cell_type": "code",
   "execution_count": 12,
   "metadata": {},
   "outputs": [],
   "source": [
    "def data_to_csv(data):\n",
    "    info_list = []\n",
    "    user_id = data['user_id']\n",
    "    dialogs = data['dialogs']\n",
    "    for d_i, dialog in enumerate(dialogs):\n",
    "        for m_i, message in enumerate(dialog):\n",
    "            info_list.append([user_id, d_i, m_i, message['text'].encode('utf8'), message['income']])\n",
    "    return info_list"
   ]
  },
  {
   "cell_type": "code",
   "execution_count": 10,
   "metadata": {},
   "outputs": [
    {
     "name": "stdout",
     "output_type": "stream",
     "text": [
      "for group id 150056870\n",
      "for group id 144200174\n",
      "for group id 104200029\n",
      "for group id 145374862\n",
      "for group id 47774777\n",
      "for group id 149333570\n",
      "for group id 150407289\n",
      "for group id 153209244\n",
      "for group id 117962007\n",
      "for group id 135045983\n",
      "for group id 105101039\n",
      "for group id 145809686\n",
      "for group id 142731913\n",
      "for group id 150077810\n",
      "for group id 145129593\n",
      "for group id 143327922\n",
      "for group id 148226782\n",
      "for group id 151811253\n",
      "for group id 148577565\n"
     ]
    }
   ],
   "source": [
    "# group_id = 145254340 is the longest\n",
    "for group_id in group_ids:\n",
    "    print ('for group id {}'.format(group_id))\n",
    "    f = open(join(input_folder_path, '{}.json'.format(group_id)))\n",
    "    outfile = open(join(output_folder_path, '{}.csv'.format(group_id)), \"wb+\")\n",
    "    writer = csv.writer(outfile)\n",
    "    # Write CSV Header, If you dont need that, remove this line\n",
    "    writer.writerow([\"user_id\", \"dialog_number\", \"message_number\", \"text\", \"is_income\"])\n",
    "    for line in f:\n",
    "        data = json.loads(line)\n",
    "        for item in data_to_csv(data):\n",
    "            writer.writerow(item)\n",
    "    outfile.close()\n",
    "    f.close()"
   ]
  },
  {
   "cell_type": "code",
   "execution_count": 5,
   "metadata": {},
   "outputs": [],
   "source": []
  }
 ],
 "metadata": {
  "anaconda-cloud": {},
  "kernelspec": {
   "display_name": "Python 2",
   "language": "python",
   "name": "python2"
  },
  "language_info": {
   "codemirror_mode": {
    "name": "ipython",
    "version": 2
   },
   "file_extension": ".py",
   "mimetype": "text/x-python",
   "name": "python",
   "nbconvert_exporter": "python",
   "pygments_lexer": "ipython2",
   "version": "2.7.14"
  }
 },
 "nbformat": 4,
 "nbformat_minor": 1
}
