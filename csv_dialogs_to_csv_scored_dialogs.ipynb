{
 "cells": [
  {
   "cell_type": "code",
   "execution_count": 1,
   "metadata": {},
   "outputs": [],
   "source": [
    "import numpy as np\n",
    "import pandas as pd\n",
    "import nltk\n",
    "import re\n",
    "import json\n",
    "from os.path import join\n",
    "from collections import defaultdict\n",
    "import pickle\n",
    "import pymorphy2"
   ]
  },
  {
   "cell_type": "code",
   "execution_count": 2,
   "metadata": {},
   "outputs": [],
   "source": [
    "input_folder_path = 'csv_dialogs'\n",
    "output_folder_path = 'csv_word_tokens'\n",
    "group_id = 145254340"
   ]
  },
  {
   "cell_type": "code",
   "execution_count": 3,
   "metadata": {},
   "outputs": [],
   "source": [
    "def preprocessor(text):\n",
    "#     print type(text) == type(str(text))\n",
    "    \n",
    "    text = str(text)\n",
    "    text = re.split(r'Собеседник: ?\\n?', text, maxsplit = 1)[-1]\n",
    "    text = text.replace(r'Собеседник отправил стикер','')\n",
    "    text = text.replace(r'Бот: Мы заботимся о вашей анонимности и не позволяем пересылать сообщения','')\n",
    "    text = text.replace(r'Чтобы получить самый интересный опрос, напиши \"опрос\" или \"!\"\\n? ?Чтобы начать анонимный чат, напиши \"чат\"\\n?','')\n",
    "    return text"
   ]
  },
  {
   "cell_type": "code",
   "execution_count": 8,
   "metadata": {},
   "outputs": [],
   "source": [
    "df_dialogs = pd.read_csv(join(input_folder_path, '{}.csv'.format(group_id)))"
   ]
  },
  {
   "cell_type": "code",
   "execution_count": 10,
   "metadata": {},
   "outputs": [
    {
     "data": {
      "text/html": [
       "<div>\n",
       "<style scoped>\n",
       "    .dataframe tbody tr th:only-of-type {\n",
       "        vertical-align: middle;\n",
       "    }\n",
       "\n",
       "    .dataframe tbody tr th {\n",
       "        vertical-align: top;\n",
       "    }\n",
       "\n",
       "    .dataframe thead th {\n",
       "        text-align: right;\n",
       "    }\n",
       "</style>\n",
       "<table border=\"1\" class=\"dataframe\">\n",
       "  <thead>\n",
       "    <tr style=\"text-align: right;\">\n",
       "      <th></th>\n",
       "      <th>user_id</th>\n",
       "      <th>dialog_number</th>\n",
       "      <th>message_number</th>\n",
       "      <th>text</th>\n",
       "      <th>is_income</th>\n",
       "    </tr>\n",
       "  </thead>\n",
       "  <tbody>\n",
       "    <tr>\n",
       "      <th>0</th>\n",
       "      <td>402472964</td>\n",
       "      <td>0</td>\n",
       "      <td>0</td>\n",
       "      <td>приветствую</td>\n",
       "      <td>1</td>\n",
       "    </tr>\n",
       "    <tr>\n",
       "      <th>1</th>\n",
       "      <td>402472964</td>\n",
       "      <td>0</td>\n",
       "      <td>1</td>\n",
       "      <td>здрастееэээ?</td>\n",
       "      <td>1</td>\n",
       "    </tr>\n",
       "    <tr>\n",
       "      <th>2</th>\n",
       "      <td>402472964</td>\n",
       "      <td>0</td>\n",
       "      <td>2</td>\n",
       "      <td>эм...</td>\n",
       "      <td>1</td>\n",
       "    </tr>\n",
       "    <tr>\n",
       "      <th>3</th>\n",
       "      <td>402472964</td>\n",
       "      <td>0</td>\n",
       "      <td>3</td>\n",
       "      <td>мммм...</td>\n",
       "      <td>1</td>\n",
       "    </tr>\n",
       "    <tr>\n",
       "      <th>4</th>\n",
       "      <td>402472964</td>\n",
       "      <td>0</td>\n",
       "      <td>4</td>\n",
       "      <td>ты на связи?</td>\n",
       "      <td>1</td>\n",
       "    </tr>\n",
       "  </tbody>\n",
       "</table>\n",
       "</div>"
      ],
      "text/plain": [
       "     user_id  dialog_number  message_number          text  is_income\n",
       "0  402472964              0               0   приветствую          1\n",
       "1  402472964              0               1  здрастееэээ?          1\n",
       "2  402472964              0               2         эм...          1\n",
       "3  402472964              0               3       мммм...          1\n",
       "4  402472964              0               4  ты на связи?          1"
      ]
     },
     "execution_count": 10,
     "metadata": {},
     "output_type": "execute_result"
    }
   ],
   "source": [
    "df_incomes = df_dialogs.query('is_income == 1').iloc[:,:]\n",
    "df_incomes.loc[:,'text'] = df_incomes['text'].apply(preprocessor)\n",
    "df_incomes.loc[:,'text'] = df_incomes.loc[:,'text'].str.decode('utf-8').str.lower()\n",
    "df_incomes.head()"
   ]
  },
  {
   "cell_type": "code",
   "execution_count": 11,
   "metadata": {},
   "outputs": [],
   "source": [
    "df_incomes_filtered = df_incomes.query('text != \"\"')"
   ]
  },
  {
   "cell_type": "code",
   "execution_count": 12,
   "metadata": {},
   "outputs": [
    {
     "data": {
      "text/plain": [
       "(352005, 5)"
      ]
     },
     "execution_count": 12,
     "metadata": {},
     "output_type": "execute_result"
    }
   ],
   "source": [
    "df_incomes_filtered.shape"
   ]
  },
  {
   "cell_type": "code",
   "execution_count": 13,
   "metadata": {},
   "outputs": [],
   "source": [
    "df_indexed2 = df_incomes_filtered.set_index(['user_id', 'dialog_number'])"
   ]
  },
  {
   "cell_type": "code",
   "execution_count": 14,
   "metadata": {},
   "outputs": [],
   "source": [
    "score_good = pd.read_csv('csv_score/good_dialogs.csv')\n",
    "score_good['score'] = 1\n"
   ]
  },
  {
   "cell_type": "code",
   "execution_count": 15,
   "metadata": {},
   "outputs": [],
   "source": [
    "score_bad = pd.read_csv('csv_score/bad_dialogs.csv')\n",
    "score_bad['score'] = -1\n"
   ]
  },
  {
   "cell_type": "code",
   "execution_count": 16,
   "metadata": {},
   "outputs": [
    {
     "data": {
      "text/html": [
       "<div>\n",
       "<style scoped>\n",
       "    .dataframe tbody tr th:only-of-type {\n",
       "        vertical-align: middle;\n",
       "    }\n",
       "\n",
       "    .dataframe tbody tr th {\n",
       "        vertical-align: top;\n",
       "    }\n",
       "\n",
       "    .dataframe thead th {\n",
       "        text-align: right;\n",
       "    }\n",
       "</style>\n",
       "<table border=\"1\" class=\"dataframe\">\n",
       "  <thead>\n",
       "    <tr style=\"text-align: right;\">\n",
       "      <th></th>\n",
       "      <th>user_id</th>\n",
       "      <th>dialog_number</th>\n",
       "      <th>score</th>\n",
       "    </tr>\n",
       "  </thead>\n",
       "  <tbody>\n",
       "    <tr>\n",
       "      <th>0</th>\n",
       "      <td>386898798</td>\n",
       "      <td>71</td>\n",
       "      <td>1</td>\n",
       "    </tr>\n",
       "    <tr>\n",
       "      <th>1</th>\n",
       "      <td>377635143</td>\n",
       "      <td>48</td>\n",
       "      <td>1</td>\n",
       "    </tr>\n",
       "    <tr>\n",
       "      <th>2</th>\n",
       "      <td>228500854</td>\n",
       "      <td>23</td>\n",
       "      <td>1</td>\n",
       "    </tr>\n",
       "    <tr>\n",
       "      <th>3</th>\n",
       "      <td>229537964</td>\n",
       "      <td>12</td>\n",
       "      <td>1</td>\n",
       "    </tr>\n",
       "    <tr>\n",
       "      <th>4</th>\n",
       "      <td>237511060</td>\n",
       "      <td>101</td>\n",
       "      <td>1</td>\n",
       "    </tr>\n",
       "  </tbody>\n",
       "</table>\n",
       "</div>"
      ],
      "text/plain": [
       "     user_id  dialog_number  score\n",
       "0  386898798             71      1\n",
       "1  377635143             48      1\n",
       "2  228500854             23      1\n",
       "3  229537964             12      1\n",
       "4  237511060            101      1"
      ]
     },
     "execution_count": 16,
     "metadata": {},
     "output_type": "execute_result"
    }
   ],
   "source": [
    "score = pd.concat((score_good, score_bad))\n",
    "score.head()"
   ]
  },
  {
   "cell_type": "code",
   "execution_count": 17,
   "metadata": {},
   "outputs": [
    {
     "data": {
      "text/html": [
       "<div>\n",
       "<style scoped>\n",
       "    .dataframe tbody tr th:only-of-type {\n",
       "        vertical-align: middle;\n",
       "    }\n",
       "\n",
       "    .dataframe tbody tr th {\n",
       "        vertical-align: top;\n",
       "    }\n",
       "\n",
       "    .dataframe thead th {\n",
       "        text-align: right;\n",
       "    }\n",
       "</style>\n",
       "<table border=\"1\" class=\"dataframe\">\n",
       "  <thead>\n",
       "    <tr style=\"text-align: right;\">\n",
       "      <th></th>\n",
       "      <th></th>\n",
       "      <th>score</th>\n",
       "    </tr>\n",
       "    <tr>\n",
       "      <th>user_id</th>\n",
       "      <th>dialog_number</th>\n",
       "      <th></th>\n",
       "    </tr>\n",
       "  </thead>\n",
       "  <tbody>\n",
       "    <tr>\n",
       "      <th>386898798</th>\n",
       "      <th>71</th>\n",
       "      <td>1</td>\n",
       "    </tr>\n",
       "    <tr>\n",
       "      <th>377635143</th>\n",
       "      <th>48</th>\n",
       "      <td>1</td>\n",
       "    </tr>\n",
       "    <tr>\n",
       "      <th>228500854</th>\n",
       "      <th>23</th>\n",
       "      <td>1</td>\n",
       "    </tr>\n",
       "    <tr>\n",
       "      <th>229537964</th>\n",
       "      <th>12</th>\n",
       "      <td>1</td>\n",
       "    </tr>\n",
       "    <tr>\n",
       "      <th>237511060</th>\n",
       "      <th>101</th>\n",
       "      <td>1</td>\n",
       "    </tr>\n",
       "  </tbody>\n",
       "</table>\n",
       "</div>"
      ],
      "text/plain": [
       "                         score\n",
       "user_id   dialog_number       \n",
       "386898798 71                 1\n",
       "377635143 48                 1\n",
       "228500854 23                 1\n",
       "229537964 12                 1\n",
       "237511060 101                1"
      ]
     },
     "execution_count": 17,
     "metadata": {},
     "output_type": "execute_result"
    }
   ],
   "source": [
    "score_indexed = score.set_index(['user_id', 'dialog_number'])\n",
    "score_indexed.head()"
   ]
  },
  {
   "cell_type": "code",
   "execution_count": 18,
   "metadata": {},
   "outputs": [],
   "source": [
    "df_scored_dialogs = df_indexed2.join(score_indexed).dropna().reset_index().drop(columns=['is_income'])"
   ]
  },
  {
   "cell_type": "code",
   "execution_count": 19,
   "metadata": {},
   "outputs": [],
   "source": [
    "df_scored_dialogs.to_csv('csv_scored_dialogs/{}.csv'.format(group_id), encoding='utf-8', index=False)"
   ]
  },
  {
   "cell_type": "code",
   "execution_count": 20,
   "metadata": {},
   "outputs": [
    {
     "data": {
      "text/plain": [
       "(237800, 5)"
      ]
     },
     "execution_count": 20,
     "metadata": {},
     "output_type": "execute_result"
    }
   ],
   "source": [
    "df_scored_dialogs.shape"
   ]
  },
  {
   "cell_type": "code",
   "execution_count": 21,
   "metadata": {},
   "outputs": [
    {
     "data": {
      "text/html": [
       "<div>\n",
       "<style scoped>\n",
       "    .dataframe tbody tr th:only-of-type {\n",
       "        vertical-align: middle;\n",
       "    }\n",
       "\n",
       "    .dataframe tbody tr th {\n",
       "        vertical-align: top;\n",
       "    }\n",
       "\n",
       "    .dataframe thead th {\n",
       "        text-align: right;\n",
       "    }\n",
       "</style>\n",
       "<table border=\"1\" class=\"dataframe\">\n",
       "  <thead>\n",
       "    <tr style=\"text-align: right;\">\n",
       "      <th></th>\n",
       "      <th>user_id</th>\n",
       "      <th>dialog_number</th>\n",
       "      <th>message_number</th>\n",
       "      <th>text</th>\n",
       "      <th>score</th>\n",
       "    </tr>\n",
       "  </thead>\n",
       "  <tbody>\n",
       "    <tr>\n",
       "      <th>0</th>\n",
       "      <td>2486613</td>\n",
       "      <td>7</td>\n",
       "      <td>1</td>\n",
       "      <td>тян?</td>\n",
       "      <td>-1.0</td>\n",
       "    </tr>\n",
       "    <tr>\n",
       "      <th>1</th>\n",
       "      <td>2486613</td>\n",
       "      <td>10</td>\n",
       "      <td>1</td>\n",
       "      <td>хуел</td>\n",
       "      <td>-1.0</td>\n",
       "    </tr>\n",
       "    <tr>\n",
       "      <th>2</th>\n",
       "      <td>2486613</td>\n",
       "      <td>11</td>\n",
       "      <td>1</td>\n",
       "      <td>привет</td>\n",
       "      <td>1.0</td>\n",
       "    </tr>\n",
       "    <tr>\n",
       "      <th>3</th>\n",
       "      <td>2486613</td>\n",
       "      <td>11</td>\n",
       "      <td>5</td>\n",
       "      <td>😂</td>\n",
       "      <td>1.0</td>\n",
       "    </tr>\n",
       "    <tr>\n",
       "      <th>4</th>\n",
       "      <td>2486613</td>\n",
       "      <td>11</td>\n",
       "      <td>6</td>\n",
       "      <td>м ж?</td>\n",
       "      <td>1.0</td>\n",
       "    </tr>\n",
       "  </tbody>\n",
       "</table>\n",
       "</div>"
      ],
      "text/plain": [
       "   user_id  dialog_number  message_number    text  score\n",
       "0  2486613              7               1    тян?   -1.0\n",
       "1  2486613             10               1    хуел   -1.0\n",
       "2  2486613             11               1  привет    1.0\n",
       "3  2486613             11               5       😂    1.0\n",
       "4  2486613             11               6    м ж?    1.0"
      ]
     },
     "execution_count": 21,
     "metadata": {},
     "output_type": "execute_result"
    }
   ],
   "source": [
    "df_scored_dialogs.head()"
   ]
  },
  {
   "cell_type": "code",
   "execution_count": 144,
   "metadata": {},
   "outputs": [],
   "source": [
    "# def text_normalizer(text, ob_norm):\n",
    "#     text = ob_norm.sub_pattern.sub(r\"\\1\\1\", text)\n",
    "#     words = nltk.word_tokenize(text)\n",
    "# #     words = TweetTokenizer(reduce_len=True).tokenize(text)\n",
    "#     return ' '.join(words)"
   ]
  },
  {
   "cell_type": "code",
   "execution_count": 38,
   "metadata": {},
   "outputs": [],
   "source": [
    "class Normalizer:\n",
    "    def __init__(self, morph):\n",
    "        self.morph = morph\n",
    "        self.sub_pattern = re.compile(r\"(.)\\1{2,}\")\n",
    "        \n",
    "        self.alphabet = u'абвгдеёжзийклмнопрстуфхцчшщъыьэюя'\n",
    "        \n",
    "        self.abc_pattern = re.compile(ur'[{}-]+'.format(self.alphabet))\n",
    "#         pattern_word_ru = \"[\"+ alphabet_ru + alphabet_ru.upper() + extra_word_elems + \"]+\"\n",
    "        \n",
    "        self.word_stat = dict()\n",
    "    \n",
    "        stored_dict = pickle.load( open( \"extra/dictionary.p\", \"rb\" ) )\n",
    "        self.vocab = defaultdict(lambda: 1)\n",
    "        for key, value in stored_dict.iteritems():\n",
    "            self.vocab[key] += value\n",
    "            \n",
    "    # функция, возвращающая все слова, которые находятся на расстоянии одной правки от исходного слова\n",
    "    def edits1(self, word):\n",
    "       splits     = [(word[:i], word[i:]) for i in range(len(word) + 1)]\n",
    "       deletes    = [a + b[1:] for a, b in splits if b]\n",
    "       transposes = [a + b[1] + b[0] + b[2:] for a, b in splits if len(b)>1]\n",
    "       replaces   = [a + c + b[1:] for a, b in splits for c in self.alphabet if b]\n",
    "       inserts    = [a + c + b     for a, b in splits for c in self.alphabet]\n",
    "       return list(set(deletes + transposes + replaces + inserts))\n",
    "\n",
    "#     # на расстоянии 2 правок\n",
    "#     def edits2(self, word):\n",
    "#         return list(set(e2 for e1 in self.edits1(word) for e2 in self.edits1(e1)))\n",
    "\n",
    "    def check_in_vocab(self, words):\n",
    "        if isinstance(words, unicode):\n",
    "            words = [words]\n",
    "        return filter(lambda x: x in self.vocab,words)\n",
    "\n",
    "    def correct(self, word):\n",
    "        if self.abc_pattern.match(word) is None:\n",
    "            return word\n",
    "#         candidates = self.check_in_vocab([word]) or self.check_in_vocab(self.edits1(word)) or self.check_in_vocab(self.edits2(word)) or [word]\n",
    "        candidates = self.check_in_vocab([word]) or self.check_in_vocab(self.edits1(word)) or [word]\n",
    "        return max(candidates, key=self.vocab.get)\n",
    "    \n",
    "    def normal_forms(self, words):\n",
    "        result = []\n",
    "        for word in words:\n",
    "            possible_words = morph.parse(word)\n",
    "            possible_normal_forms = []\n",
    "            for possible_word in possible_words:\n",
    "                if possible_word.score >= 0.5:\n",
    "                    possible_normal_forms.append(possible_word.normal_form)\n",
    "            \n",
    "            to_append = word if possible_normal_forms == [] else possible_normal_forms[0]\n",
    "            if to_append in self.word_stat:\n",
    "                self.word_stat[to_append] += 1\n",
    "            else:\n",
    "                self.word_stat[to_append] = 1\n",
    "            result.append(to_append)\n",
    "#             if possible_normal_forms == []:\n",
    "#                 result.append(word)\n",
    "#             else:\n",
    "#                 to_append = word\n",
    "#                 result.append(possible_normal_forms[0])\n",
    "                    \n",
    "            for normal_form in set(possible_normal_forms):\n",
    "                if normal_form in self.word_stat:\n",
    "                    self.word_stat[normal_form] += 1\n",
    "                else:\n",
    "                    self.word_stat[normal_form] = 1\n",
    "        \n",
    "        return result\n",
    "    \n",
    "    def text_normalizer(self, text):\n",
    "        text = self.sub_pattern.sub(r\"\\1\\1\", text)\n",
    "        words = nltk.word_tokenize(text)\n",
    "        words = [self.correct(word) for word in words]\n",
    "        words = self.normal_forms(words)\n",
    "    #     words = TweetTokenizer(reduce_len=True).tokenize(text)\n",
    "        return ' '.join(words)"
   ]
  },
  {
   "cell_type": "code",
   "execution_count": 23,
   "metadata": {},
   "outputs": [],
   "source": [
    "morph = pymorphy2.MorphAnalyzer()"
   ]
  },
  {
   "cell_type": "code",
   "execution_count": 39,
   "metadata": {},
   "outputs": [
    {
     "name": "stdout",
     "output_type": "stream",
     "text": [
      "CPU times: user 1.09 s, sys: 112 ms, total: 1.2 s\n",
      "Wall time: 2.05 s\n"
     ]
    }
   ],
   "source": [
    "%time normalizer = Normalizer(morph)"
   ]
  },
  {
   "cell_type": "code",
   "execution_count": 40,
   "metadata": {},
   "outputs": [
    {
     "name": "stdout",
     "output_type": "stream",
     "text": [
      "CPU times: user 7min 49s, sys: 1.07 s, total: 7min 50s\n",
      "Wall time: 7min 52s\n"
     ]
    }
   ],
   "source": [
    "%time tokens = df_scored_dialogs.loc[:,'text'].apply(normalizer.text_normalizer)"
   ]
  },
  {
   "cell_type": "code",
   "execution_count": 42,
   "metadata": {},
   "outputs": [],
   "source": [
    "with open('stats/words.json', 'w') as f:\n",
    "    json.dump(normalizer.word_stat, f)"
   ]
  },
  {
   "cell_type": "code",
   "execution_count": 43,
   "metadata": {},
   "outputs": [],
   "source": [
    "df_scored_dialogs['tokens'] = tokens"
   ]
  },
  {
   "cell_type": "code",
   "execution_count": 44,
   "metadata": {},
   "outputs": [],
   "source": [
    "df_scored_dialogs.to_csv('csv_scored_dialogs/{}.csv'.format(group_id), encoding='utf-8', index=False)"
   ]
  },
  {
   "cell_type": "code",
   "execution_count": null,
   "metadata": {},
   "outputs": [],
   "source": []
  },
  {
   "cell_type": "code",
   "execution_count": null,
   "metadata": {},
   "outputs": [],
   "source": []
  },
  {
   "cell_type": "code",
   "execution_count": null,
   "metadata": {},
   "outputs": [],
   "source": []
  }
 ],
 "metadata": {
  "kernelspec": {
   "display_name": "Python 2",
   "language": "python",
   "name": "python2"
  },
  "language_info": {
   "codemirror_mode": {
    "name": "ipython",
    "version": 2
   },
   "file_extension": ".py",
   "mimetype": "text/x-python",
   "name": "python",
   "nbconvert_exporter": "python",
   "pygments_lexer": "ipython2",
   "version": "2.7.14"
  }
 },
 "nbformat": 4,
 "nbformat_minor": 2
}
